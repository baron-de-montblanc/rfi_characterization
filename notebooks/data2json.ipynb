{
 "cells": [
  {
   "cell_type": "markdown",
   "id": "287a4d79",
   "metadata": {},
   "source": [
    "## Send MWA data to JSON format for training"
   ]
  },
  {
   "cell_type": "code",
   "execution_count": 1,
   "id": "317be28a",
   "metadata": {},
   "outputs": [],
   "source": [
    "import sys\n",
    "sys.path.append('/users/jmduchar/data/jmduchar/Research/mcgill25/rfi_characterization/python/')\n",
    "from utils import *\n",
    "\n",
    "import numpy as np\n",
    "import yaml\n",
    "import os\n",
    "import glob\n",
    "import json\n",
    "from astropy.io import fits\n",
    "import h5py\n",
    "import matplotlib.pyplot as plt\n",
    "from mapper import bg_subtract\n",
    "plt.style.use('seaborn-v0_8')"
   ]
  },
  {
   "cell_type": "code",
   "execution_count": 2,
   "id": "02044bb2",
   "metadata": {},
   "outputs": [],
   "source": [
    "# Get data\n",
    "dirpath = '/users/jmduchar/data/jmduchar/Research/mcgill25/ssins_data/'\n",
    "reference_obs = '1093799552'  # known to contain RFI\n",
    "\n",
    "with open(dirpath+'gridpoint_dict.yaml', 'r') as file:\n",
    "    data = yaml.safe_load(file)\n",
    "    \n",
    "obsids = get_night(data=data, target_obsid=reference_obs)"
   ]
  },
  {
   "cell_type": "code",
   "execution_count": null,
   "id": "17b849b4",
   "metadata": {
    "scrolled": true
   },
   "outputs": [
    {
     "name": "stderr",
     "output_type": "stream",
     "text": [
      "channel_width not available in file, computing it from the freq_array spacing.\n",
      "Antenna metadata are missing for this file. Since this is MWA data, the best way to fill in these metadata is to pass in an mwa_metafits_file which contains information about which antennas were connected when the data were taken. Since that was not passed, the antenna metadata will be filled in from a static csv file containing all the antennas that could have been connected.\n",
      "Nants_telescope, antenna_names, antenna_numbers, antenna_positions, telescope_location are not set or are being overwritten. Using known values for MWA.\n",
      "invalid value encountered in multiply\n",
      "invalid value encountered in divide\n",
      "channel_width not available in file, computing it from the freq_array spacing.\n",
      "Antenna metadata are missing for this file. Since this is MWA data, the best way to fill in these metadata is to pass in an mwa_metafits_file which contains information about which antennas were connected when the data were taken. Since that was not passed, the antenna metadata will be filled in from a static csv file containing all the antennas that could have been connected.\n",
      "Nants_telescope, antenna_names, antenna_numbers, antenna_positions, telescope_location are not set or are being overwritten. Using known values for MWA.\n",
      "sig_array has been reset\n"
     ]
    },
    {
     "name": "stdout",
     "output_type": "stream",
     "text": [
      "Testing 0 emissions.\n",
      "Number of seeds: 1\n",
      "Running cycle #1...\n",
      "Minimum log posterior found for 0 emissions is 9513849.712123465.\n",
      "Testing 1 emissions.\n",
      "Number of seeds: 10\n",
      "Running cycle #1...\n",
      "Running cycle #2...\n",
      "Running cycle #3...\n",
      "Running cycle #4...\n",
      "Running cycle #5...\n",
      "Running cycle #6...\n",
      "Running cycle #7...\n",
      "Running cycle #8...\n",
      "Running cycle #9...\n",
      "Running cycle #10...\n",
      "Minimum log posterior found for 1 emissions is 7888551.413490874.\n",
      "Testing 2 emissions.\n",
      "Number of seeds: 45\n",
      "Running cycle #1...\n",
      "Running cycle #2...\n",
      "Running cycle #3...\n",
      "Running cycle #4...\n",
      "Running cycle #5...\n",
      "Running cycle #6...\n",
      "Running cycle #7...\n",
      "Running cycle #8...\n",
      "Running cycle #9...\n",
      "Running cycle #10...\n",
      "Running cycle #11...\n",
      "Running cycle #12...\n",
      "Running cycle #13...\n",
      "Running cycle #14...\n",
      "Running cycle #15...\n",
      "Running cycle #16...\n",
      "Running cycle #17...\n",
      "Running cycle #18...\n",
      "Running cycle #19...\n",
      "Running cycle #20...\n",
      "Running cycle #21...\n",
      "Running cycle #22...\n",
      "Running cycle #23...\n",
      "Running cycle #24...\n",
      "Running cycle #25...\n",
      "Running cycle #26...\n",
      "Running cycle #27...\n",
      "Running cycle #28...\n",
      "Running cycle #29...\n",
      "Running cycle #30...\n",
      "Running cycle #31...\n",
      "Running cycle #32...\n",
      "Running cycle #33...\n",
      "Running cycle #34...\n",
      "Running cycle #35...\n",
      "Running cycle #36...\n",
      "Running cycle #37...\n",
      "Running cycle #38...\n",
      "Running cycle #39...\n",
      "Running cycle #40...\n",
      "Running cycle #41...\n",
      "Running cycle #42...\n",
      "Running cycle #43...\n",
      "Running cycle #44...\n",
      "Running cycle #45...\n",
      "Minimum log posterior found for 2 emissions is 7923804.645845395.\n",
      "Testing 3 emissions.\n",
      "Number of seeds: 120\n",
      "Running cycle #1...\n",
      "Running cycle #2...\n",
      "Running cycle #3...\n",
      "Running cycle #4...\n",
      "Running cycle #5...\n",
      "Running cycle #6...\n",
      "Running cycle #7...\n",
      "Running cycle #8...\n",
      "Running cycle #9...\n",
      "Running cycle #10...\n",
      "Running cycle #11...\n",
      "Running cycle #12...\n",
      "Running cycle #13...\n",
      "Running cycle #14...\n",
      "Running cycle #15...\n",
      "Running cycle #16...\n",
      "Running cycle #17...\n",
      "Running cycle #18...\n",
      "Running cycle #19...\n",
      "Running cycle #20...\n",
      "Running cycle #21...\n",
      "Running cycle #22...\n",
      "Running cycle #23...\n",
      "Running cycle #24...\n",
      "Running cycle #25...\n",
      "Running cycle #26...\n"
     ]
    }
   ],
   "source": [
    "subtracted_data = bg_subtract(data_dir=dirpath+'tars/', obsids=obsids)"
   ]
  },
  {
   "cell_type": "code",
   "execution_count": null,
   "id": "15b4e5ea",
   "metadata": {},
   "outputs": [],
   "source": [
    "cb = np.load('../data/coarse_bands_1D.npy')\n",
    "ssins_list = []\n",
    "\n",
    "for obsid in obsids:\n",
    "    file = dirpath + f\"tars/{obsid}_SSINS_data.h5\"\n",
    "    \n",
    "    with h5py.File(file, \"r\") as hf:\n",
    "        \n",
    "        # Access the SSINS\n",
    "        ssins_rep = hf['Data']['metric_array'][:][:,:,0]  # xx polarization\n",
    "        \n",
    "        # Remove CB\n",
    "        ssins_rep = ssins_rep[:,np.invert(cb)]\n",
    "        \n",
    "        # Avg across DTV7\n",
    "        ssins_rep = np.mean(ssins_rep[:,350:525], axis=1)\n",
    "\n",
    "        # Remove inf\n",
    "        ssins_rep = ssins_rep[~np.isinf(ssins_rep)]\n",
    "\n",
    "        # Append to list\n",
    "        ssins_list.append(ssins_rep)"
   ]
  },
  {
   "cell_type": "code",
   "execution_count": null,
   "id": "317d4e80",
   "metadata": {},
   "outputs": [],
   "source": [
    "ssins = np.asarray(ssins_list).flatten()\n",
    "\n",
    "ssins.shape"
   ]
  },
  {
   "cell_type": "code",
   "execution_count": null,
   "id": "0bd572d0",
   "metadata": {},
   "outputs": [],
   "source": [
    "# SUBTRACT MEDIAN\n",
    "ssins = ssins - np.median(ssins)"
   ]
  },
  {
   "cell_type": "code",
   "execution_count": null,
   "id": "286e06b1",
   "metadata": {
    "scrolled": false
   },
   "outputs": [],
   "source": [
    "plt.figure(figsize=(6,3))\n",
    "plt.plot(ssins, '.-')\n",
    "plt.title(\"Amplitude of SSINS averaged across DTV7 (pointing 0)\\nMedian-subtracted\", y=1.02)\n",
    "plt.xlabel(\"time-step\")\n",
    "plt.ylabel(\"amplitude (median-subtracted)\")\n",
    "# plt.yscale('log')\n",
    "# plt.ylim(-1,1)\n",
    "plt.savefig(\"./ssins_sample.png\",dpi=300,bbox_inches='tight')\n",
    "plt.show()"
   ]
  },
  {
   "cell_type": "code",
   "execution_count": null,
   "id": "5faa48be",
   "metadata": {},
   "outputs": [],
   "source": [
    "# Structure the data for Stan\n",
    "stan_data = {\n",
    "    \"N\": ssins.shape[0],\n",
    "    \"y\": ssins.tolist(),\n",
    "}"
   ]
  },
  {
   "cell_type": "code",
   "execution_count": null,
   "id": "f5e21e0a",
   "metadata": {},
   "outputs": [],
   "source": [
    "stan_data"
   ]
  },
  {
   "cell_type": "code",
   "execution_count": null,
   "id": "1ae74c2b",
   "metadata": {},
   "outputs": [],
   "source": [
    "# Write to JSON\n",
    "with open(\"../data/three_state.data.json\", \"w\") as f:\n",
    "    json.dump(stan_data, f)"
   ]
  },
  {
   "cell_type": "code",
   "execution_count": null,
   "id": "7b8acdf9",
   "metadata": {},
   "outputs": [],
   "source": []
  }
 ],
 "metadata": {
  "kernelspec": {
   "display_name": "mcgill25",
   "language": "python",
   "name": "mcgill25"
  },
  "language_info": {
   "codemirror_mode": {
    "name": "ipython",
    "version": 3
   },
   "file_extension": ".py",
   "mimetype": "text/x-python",
   "name": "python",
   "nbconvert_exporter": "python",
   "pygments_lexer": "ipython3",
   "version": "3.11.12"
  }
 },
 "nbformat": 4,
 "nbformat_minor": 5
}
