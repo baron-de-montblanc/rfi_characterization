{
 "cells": [
  {
   "cell_type": "code",
   "execution_count": 1,
   "id": "970be7d9",
   "metadata": {},
   "outputs": [],
   "source": [
    "import sys\n",
    "import importlib\n",
    "sys.path.append(\"/users/jmduchar/data/jmduchar/Research/mcgill25/rfi_characterization/\")\n",
    "import python.utils as ut\n",
    "\n",
    "import os\n",
    "import numpy as np\n",
    "import arviz as az\n",
    "from numpy.polynomial.legendre import legvander\n",
    "import matplotlib.pyplot as plt\n",
    "from cmdstanpy import CmdStanModel\n",
    "import json\n",
    "import glob\n",
    "from scipy.stats import norm, cauchy, mode, t\n",
    "from cmdstanpy import from_csv\n",
    "import seaborn as sns\n",
    "from tqdm import tqdm\n",
    "import corner\n",
    "import json\n",
    "\n",
    "plt.style.use('seaborn-v0_8')"
   ]
  },
  {
   "cell_type": "code",
   "execution_count": 2,
   "id": "03f475d3",
   "metadata": {},
   "outputs": [
    {
     "ename": "ValueError",
     "evalue": "Invalid or corrupt Stan CSV output file, ",
     "output_type": "error",
     "traceback": [
      "\u001b[31m---------------------------------------------------------------------------\u001b[39m",
      "\u001b[31mValueError\u001b[39m                                Traceback (most recent call last)",
      "\u001b[36mFile \u001b[39m\u001b[32m~/.conda/envs/stan/lib/python3.13/site-packages/cmdstanpy/utils/stancsv.py:80\u001b[39m, in \u001b[36mscan_sampler_csv\u001b[39m\u001b[34m(path, is_fixed_param)\u001b[39m\n\u001b[32m     79\u001b[39m     lineno = scan_warmup_iters(fd, \u001b[38;5;28mdict\u001b[39m, lineno)\n\u001b[32m---> \u001b[39m\u001b[32m80\u001b[39m     lineno = \u001b[43mscan_hmc_params\u001b[49m\u001b[43m(\u001b[49m\u001b[43mfd\u001b[49m\u001b[43m,\u001b[49m\u001b[43m \u001b[49m\u001b[38;5;28;43mdict\u001b[39;49m\u001b[43m,\u001b[49m\u001b[43m \u001b[49m\u001b[43mlineno\u001b[49m\u001b[43m)\u001b[49m\n\u001b[32m     81\u001b[39m lineno = scan_sampling_iters(fd, \u001b[38;5;28mdict\u001b[39m, lineno, is_fixed_param)\n",
      "\u001b[36mFile \u001b[39m\u001b[32m~/.conda/envs/stan/lib/python3.13/site-packages/cmdstanpy/utils/stancsv.py:281\u001b[39m, in \u001b[36mscan_hmc_params\u001b[39m\u001b[34m(fd, config_dict, lineno)\u001b[39m\n\u001b[32m    280\u001b[39m \u001b[38;5;28;01mif\u001b[39;00m \u001b[38;5;129;01mnot\u001b[39;00m line == \u001b[33m'\u001b[39m\u001b[33m# Adaptation terminated\u001b[39m\u001b[33m'\u001b[39m:\n\u001b[32m--> \u001b[39m\u001b[32m281\u001b[39m     \u001b[38;5;28;01mraise\u001b[39;00m \u001b[38;5;167;01mValueError\u001b[39;00m(\n\u001b[32m    282\u001b[39m         \u001b[33m'\u001b[39m\u001b[33mline \u001b[39m\u001b[38;5;132;01m{}\u001b[39;00m\u001b[33m: expecting metric, found:\u001b[39m\u001b[38;5;130;01m\\n\u001b[39;00m\u001b[38;5;130;01m\\t\u001b[39;00m\u001b[33m \u001b[39m\u001b[33m\"\u001b[39m\u001b[38;5;132;01m{}\u001b[39;00m\u001b[33m\"\u001b[39m\u001b[33m'\u001b[39m.format(lineno, line)\n\u001b[32m    283\u001b[39m     )\n\u001b[32m    284\u001b[39m line = fd.readline().strip()\n",
      "\u001b[31mValueError\u001b[39m: line 49: expecting metric, found:\n\t \"\"",
      "\nThe above exception was the direct cause of the following exception:\n",
      "\u001b[31mValueError\u001b[39m                                Traceback (most recent call last)",
      "\u001b[36mFile \u001b[39m\u001b[32m~/.conda/envs/stan/lib/python3.13/site-packages/cmdstanpy/stanfit/__init__.py:132\u001b[39m, in \u001b[36mfrom_csv\u001b[39m\u001b[34m(path, method)\u001b[39m\n\u001b[32m    131\u001b[39m \u001b[38;5;28;01mtry\u001b[39;00m:\n\u001b[32m--> \u001b[39m\u001b[32m132\u001b[39m     \u001b[43mcheck_sampler_csv\u001b[49m\u001b[43m(\u001b[49m\n\u001b[32m    133\u001b[39m \u001b[43m        \u001b[49m\u001b[43mcsvfiles\u001b[49m\u001b[43m[\u001b[49m\u001b[32;43m0\u001b[39;49m\u001b[43m]\u001b[49m\u001b[43m,\u001b[49m\n\u001b[32m    134\u001b[39m \u001b[43m        \u001b[49m\u001b[43miter_sampling\u001b[49m\u001b[43m=\u001b[49m\u001b[43mconfig_dict\u001b[49m\u001b[43m[\u001b[49m\u001b[33;43m'\u001b[39;49m\u001b[33;43mnum_samples\u001b[39;49m\u001b[33;43m'\u001b[39;49m\u001b[43m]\u001b[49m\u001b[43m,\u001b[49m\n\u001b[32m    135\u001b[39m \u001b[43m        \u001b[49m\u001b[43miter_warmup\u001b[49m\u001b[43m=\u001b[49m\u001b[43mconfig_dict\u001b[49m\u001b[43m[\u001b[49m\u001b[33;43m'\u001b[39;49m\u001b[33;43mnum_warmup\u001b[39;49m\u001b[33;43m'\u001b[39;49m\u001b[43m]\u001b[49m\u001b[43m,\u001b[49m\n\u001b[32m    136\u001b[39m \u001b[43m        \u001b[49m\u001b[43mthin\u001b[49m\u001b[43m=\u001b[49m\u001b[43mconfig_dict\u001b[49m\u001b[43m[\u001b[49m\u001b[33;43m'\u001b[39;49m\u001b[33;43mthin\u001b[39;49m\u001b[33;43m'\u001b[39;49m\u001b[43m]\u001b[49m\u001b[43m,\u001b[49m\n\u001b[32m    137\u001b[39m \u001b[43m        \u001b[49m\u001b[43msave_warmup\u001b[49m\u001b[43m=\u001b[49m\u001b[43mconfig_dict\u001b[49m\u001b[43m[\u001b[49m\u001b[33;43m'\u001b[39;49m\u001b[33;43msave_warmup\u001b[39;49m\u001b[33;43m'\u001b[39;49m\u001b[43m]\u001b[49m\u001b[43m,\u001b[49m\n\u001b[32m    138\u001b[39m \u001b[43m    \u001b[49m\u001b[43m)\u001b[49m\n\u001b[32m    139\u001b[39m \u001b[38;5;28;01mexcept\u001b[39;00m \u001b[38;5;167;01mValueError\u001b[39;00m:\n",
      "\u001b[36mFile \u001b[39m\u001b[32m~/.conda/envs/stan/lib/python3.13/site-packages/cmdstanpy/utils/stancsv.py:24\u001b[39m, in \u001b[36mcheck_sampler_csv\u001b[39m\u001b[34m(path, is_fixed_param, iter_sampling, iter_warmup, save_warmup, thin)\u001b[39m\n\u001b[32m     23\u001b[39m \u001b[38;5;250m\u001b[39m\u001b[33;03m\"\"\"Capture essential config, shape from stan_csv file.\"\"\"\u001b[39;00m\n\u001b[32m---> \u001b[39m\u001b[32m24\u001b[39m meta = \u001b[43mscan_sampler_csv\u001b[49m\u001b[43m(\u001b[49m\u001b[43mpath\u001b[49m\u001b[43m,\u001b[49m\u001b[43m \u001b[49m\u001b[43mis_fixed_param\u001b[49m\u001b[43m)\u001b[49m\n\u001b[32m     25\u001b[39m \u001b[38;5;28;01mif\u001b[39;00m thin \u001b[38;5;129;01mis\u001b[39;00m \u001b[38;5;28;01mNone\u001b[39;00m:\n",
      "\u001b[36mFile \u001b[39m\u001b[32m~/.conda/envs/stan/lib/python3.13/site-packages/cmdstanpy/utils/stancsv.py:83\u001b[39m, in \u001b[36mscan_sampler_csv\u001b[39m\u001b[34m(path, is_fixed_param)\u001b[39m\n\u001b[32m     82\u001b[39m     \u001b[38;5;28;01mexcept\u001b[39;00m \u001b[38;5;167;01mValueError\u001b[39;00m \u001b[38;5;28;01mas\u001b[39;00m e:\n\u001b[32m---> \u001b[39m\u001b[32m83\u001b[39m         \u001b[38;5;28;01mraise\u001b[39;00m \u001b[38;5;167;01mValueError\u001b[39;00m(\u001b[33m\"\u001b[39m\u001b[33mError in reading csv file: \u001b[39m\u001b[33m\"\u001b[39m + path) \u001b[38;5;28;01mfrom\u001b[39;00m\u001b[38;5;250m \u001b[39m\u001b[34;01me\u001b[39;00m\n\u001b[32m     84\u001b[39m \u001b[38;5;28;01mreturn\u001b[39;00m \u001b[38;5;28mdict\u001b[39m\n",
      "\u001b[31mValueError\u001b[39m: Error in reading csv file: ../stan/stan_out/legendre-20251021180538_1.csv",
      "\nDuring handling of the above exception, another exception occurred:\n",
      "\u001b[31mValueError\u001b[39m                                Traceback (most recent call last)",
      "\u001b[36mFile \u001b[39m\u001b[32m~/.conda/envs/stan/lib/python3.13/site-packages/cmdstanpy/stanfit/__init__.py:141\u001b[39m, in \u001b[36mfrom_csv\u001b[39m\u001b[34m(path, method)\u001b[39m\n\u001b[32m    140\u001b[39m \u001b[38;5;28;01mtry\u001b[39;00m:\n\u001b[32m--> \u001b[39m\u001b[32m141\u001b[39m     \u001b[43mcheck_sampler_csv\u001b[49m\u001b[43m(\u001b[49m\n\u001b[32m    142\u001b[39m \u001b[43m        \u001b[49m\u001b[43mcsvfiles\u001b[49m\u001b[43m[\u001b[49m\u001b[32;43m0\u001b[39;49m\u001b[43m]\u001b[49m\u001b[43m,\u001b[49m\n\u001b[32m    143\u001b[39m \u001b[43m        \u001b[49m\u001b[43mis_fixed_param\u001b[49m\u001b[43m=\u001b[49m\u001b[38;5;28;43;01mTrue\u001b[39;49;00m\u001b[43m,\u001b[49m\n\u001b[32m    144\u001b[39m \u001b[43m        \u001b[49m\u001b[43miter_sampling\u001b[49m\u001b[43m=\u001b[49m\u001b[43mconfig_dict\u001b[49m\u001b[43m[\u001b[49m\u001b[33;43m'\u001b[39;49m\u001b[33;43mnum_samples\u001b[39;49m\u001b[33;43m'\u001b[39;49m\u001b[43m]\u001b[49m\u001b[43m,\u001b[49m\n\u001b[32m    145\u001b[39m \u001b[43m        \u001b[49m\u001b[43miter_warmup\u001b[49m\u001b[43m=\u001b[49m\u001b[43mconfig_dict\u001b[49m\u001b[43m[\u001b[49m\u001b[33;43m'\u001b[39;49m\u001b[33;43mnum_warmup\u001b[39;49m\u001b[33;43m'\u001b[39;49m\u001b[43m]\u001b[49m\u001b[43m,\u001b[49m\n\u001b[32m    146\u001b[39m \u001b[43m        \u001b[49m\u001b[43mthin\u001b[49m\u001b[43m=\u001b[49m\u001b[43mconfig_dict\u001b[49m\u001b[43m[\u001b[49m\u001b[33;43m'\u001b[39;49m\u001b[33;43mthin\u001b[39;49m\u001b[33;43m'\u001b[39;49m\u001b[43m]\u001b[49m\u001b[43m,\u001b[49m\n\u001b[32m    147\u001b[39m \u001b[43m        \u001b[49m\u001b[43msave_warmup\u001b[49m\u001b[43m=\u001b[49m\u001b[43mconfig_dict\u001b[49m\u001b[43m[\u001b[49m\u001b[33;43m'\u001b[39;49m\u001b[33;43msave_warmup\u001b[39;49m\u001b[33;43m'\u001b[39;49m\u001b[43m]\u001b[49m\u001b[43m,\u001b[49m\n\u001b[32m    148\u001b[39m \u001b[43m    \u001b[49m\u001b[43m)\u001b[49m\n\u001b[32m    149\u001b[39m     sampler_args = SamplerArgs(\n\u001b[32m    150\u001b[39m         iter_sampling=config_dict[\u001b[33m'\u001b[39m\u001b[33mnum_samples\u001b[39m\u001b[33m'\u001b[39m],\n\u001b[32m    151\u001b[39m         iter_warmup=config_dict[\u001b[33m'\u001b[39m\u001b[33mnum_warmup\u001b[39m\u001b[33m'\u001b[39m],\n\u001b[32m   (...)\u001b[39m\u001b[32m    154\u001b[39m         fixed_param=\u001b[38;5;28;01mTrue\u001b[39;00m,\n\u001b[32m    155\u001b[39m     )\n",
      "\u001b[36mFile \u001b[39m\u001b[32m~/.conda/envs/stan/lib/python3.13/site-packages/cmdstanpy/utils/stancsv.py:49\u001b[39m, in \u001b[36mcheck_sampler_csv\u001b[39m\u001b[34m(path, is_fixed_param, iter_sampling, iter_warmup, save_warmup, thin)\u001b[39m\n\u001b[32m     48\u001b[39m \u001b[38;5;28;01mif\u001b[39;00m meta[\u001b[33m'\u001b[39m\u001b[33mdraws_sampling\u001b[39m\u001b[33m'\u001b[39m] != draws_sampling:\n\u001b[32m---> \u001b[39m\u001b[32m49\u001b[39m     \u001b[38;5;28;01mraise\u001b[39;00m \u001b[38;5;167;01mValueError\u001b[39;00m(\n\u001b[32m     50\u001b[39m         \u001b[33m'\u001b[39m\u001b[33mbad Stan CSV file \u001b[39m\u001b[38;5;132;01m{}\u001b[39;00m\u001b[33m, expected \u001b[39m\u001b[38;5;132;01m{}\u001b[39;00m\u001b[33m draws, found \u001b[39m\u001b[38;5;132;01m{}\u001b[39;00m\u001b[33m'\u001b[39m.format(\n\u001b[32m     51\u001b[39m             path, draws_sampling, meta[\u001b[33m'\u001b[39m\u001b[33mdraws_sampling\u001b[39m\u001b[33m'\u001b[39m]\n\u001b[32m     52\u001b[39m         )\n\u001b[32m     53\u001b[39m     )\n\u001b[32m     54\u001b[39m \u001b[38;5;28;01mif\u001b[39;00m save_warmup:\n",
      "\u001b[31mValueError\u001b[39m: bad Stan CSV file ../stan/stan_out/legendre-20251021180538_1.csv, expected 1000 draws, found 0",
      "\nThe above exception was the direct cause of the following exception:\n",
      "\u001b[31mValueError\u001b[39m                                Traceback (most recent call last)",
      "\u001b[36mCell\u001b[39m\u001b[36m \u001b[39m\u001b[32mIn[2]\u001b[39m\u001b[32m, line 3\u001b[39m\n\u001b[32m      1\u001b[39m outputs = glob.glob(\u001b[33m\"\u001b[39m\u001b[33m../stan/stan_out/legendre-20251021180538_*.csv\u001b[39m\u001b[33m\"\u001b[39m)\n\u001b[32m----> \u001b[39m\u001b[32m3\u001b[39m fit = \u001b[43mfrom_csv\u001b[49m\u001b[43m(\u001b[49m\u001b[43moutputs\u001b[49m\u001b[43m)\u001b[49m\n",
      "\u001b[36mFile \u001b[39m\u001b[32m~/.conda/envs/stan/lib/python3.13/site-packages/cmdstanpy/stanfit/__init__.py:157\u001b[39m, in \u001b[36mfrom_csv\u001b[39m\u001b[34m(path, method)\u001b[39m\n\u001b[32m    149\u001b[39m         sampler_args = SamplerArgs(\n\u001b[32m    150\u001b[39m             iter_sampling=config_dict[\u001b[33m'\u001b[39m\u001b[33mnum_samples\u001b[39m\u001b[33m'\u001b[39m],\n\u001b[32m    151\u001b[39m             iter_warmup=config_dict[\u001b[33m'\u001b[39m\u001b[33mnum_warmup\u001b[39m\u001b[33m'\u001b[39m],\n\u001b[32m   (...)\u001b[39m\u001b[32m    154\u001b[39m             fixed_param=\u001b[38;5;28;01mTrue\u001b[39;00m,\n\u001b[32m    155\u001b[39m         )\n\u001b[32m    156\u001b[39m     \u001b[38;5;28;01mexcept\u001b[39;00m \u001b[38;5;167;01mValueError\u001b[39;00m \u001b[38;5;28;01mas\u001b[39;00m e:\n\u001b[32m--> \u001b[39m\u001b[32m157\u001b[39m         \u001b[38;5;28;01mraise\u001b[39;00m \u001b[38;5;167;01mValueError\u001b[39;00m(\n\u001b[32m    158\u001b[39m             \u001b[33m'\u001b[39m\u001b[33mInvalid or corrupt Stan CSV output file, \u001b[39m\u001b[33m'\u001b[39m\n\u001b[32m    159\u001b[39m         ) \u001b[38;5;28;01mfrom\u001b[39;00m\u001b[38;5;250m \u001b[39m\u001b[34;01me\u001b[39;00m\n\u001b[32m    161\u001b[39m cmdstan_args = CmdStanArgs(\n\u001b[32m    162\u001b[39m     model_name=config_dict[\u001b[33m'\u001b[39m\u001b[33mmodel\u001b[39m\u001b[33m'\u001b[39m],\n\u001b[32m    163\u001b[39m     model_exe=config_dict[\u001b[33m'\u001b[39m\u001b[33mmodel\u001b[39m\u001b[33m'\u001b[39m],\n\u001b[32m    164\u001b[39m     chain_ids=[x + \u001b[32m1\u001b[39m \u001b[38;5;28;01mfor\u001b[39;00m x \u001b[38;5;129;01min\u001b[39;00m \u001b[38;5;28mrange\u001b[39m(chains)],\n\u001b[32m    165\u001b[39m     method_args=sampler_args,\n\u001b[32m    166\u001b[39m )\n\u001b[32m    167\u001b[39m runset = RunSet(args=cmdstan_args, chains=chains)\n",
      "\u001b[31mValueError\u001b[39m: Invalid or corrupt Stan CSV output file, "
     ]
    }
   ],
   "source": [
    "outputs = glob.glob(\"../stan/stan_out/legendre-20251021180538_*.csv\")\n",
    "\n",
    "fit = from_csv(outputs)"
   ]
  },
  {
   "cell_type": "code",
   "execution_count": null,
   "id": "eefe3cd7",
   "metadata": {},
   "outputs": [],
   "source": [
    "print(fit.diagnose())"
   ]
  },
  {
   "cell_type": "code",
   "execution_count": null,
   "id": "460c5395",
   "metadata": {},
   "outputs": [],
   "source": [
    "# Load JSON data\n",
    "\n",
    "with open(\n",
    "    \"/users/jmduchar/data/jmduchar/Research/mcgill25/rfi_characterization/data/json/legendre_semisupervised.json\",\n",
    "    \"r\"\n",
    ") as f:\n",
    "    data_dict = json.load(f)"
   ]
  },
  {
   "cell_type": "code",
   "execution_count": null,
   "id": "9c19445b",
   "metadata": {},
   "outputs": [],
   "source": [
    "# Convert to arviz inference data object\n",
    "importlib.reload(ut)\n",
    "\n",
    "idata = ut.build_idata(data_dict, fit)"
   ]
  },
  {
   "cell_type": "code",
   "execution_count": 3,
   "id": "8e1354e9",
   "metadata": {},
   "outputs": [
    {
     "ename": "NameError",
     "evalue": "name 'idata' is not defined",
     "output_type": "error",
     "traceback": [
      "\u001b[31m---------------------------------------------------------------------------\u001b[39m",
      "\u001b[31mNameError\u001b[39m                                 Traceback (most recent call last)",
      "\u001b[36mCell\u001b[39m\u001b[36m \u001b[39m\u001b[32mIn[3]\u001b[39m\u001b[32m, line 3\u001b[39m\n\u001b[32m      1\u001b[39m \u001b[38;5;66;03m# az.summary(idata, var_names=[\"rate_rising\",\"rate_decay\",\"mu_blip\",\"log_k_blip\",\"X\"])\u001b[39;00m\n\u001b[32m      2\u001b[39m az.plot_trace(\n\u001b[32m----> \u001b[39m\u001b[32m3\u001b[39m     \u001b[43midata\u001b[49m,\n\u001b[32m      4\u001b[39m     var_names=[\u001b[33m\"\u001b[39m\u001b[33mrate_rising\u001b[39m\u001b[33m\"\u001b[39m, \u001b[33m\"\u001b[39m\u001b[33mrate_decay\u001b[39m\u001b[33m\"\u001b[39m, \u001b[33m\"\u001b[39m\u001b[33mmu_blip\u001b[39m\u001b[33m\"\u001b[39m, \u001b[33m\"\u001b[39m\u001b[33mlog_k_blip\u001b[39m\u001b[33m\"\u001b[39m],\n\u001b[32m      5\u001b[39m     compact=\u001b[38;5;28;01mFalse\u001b[39;00m,\n\u001b[32m      6\u001b[39m     combined=\u001b[38;5;28;01mFalse\u001b[39;00m,\n\u001b[32m      7\u001b[39m )\n\u001b[32m      8\u001b[39m plt.tight_layout(pad=\u001b[32m1.0\u001b[39m)\n\u001b[32m      9\u001b[39m plt.show()\n",
      "\u001b[31mNameError\u001b[39m: name 'idata' is not defined"
     ]
    }
   ],
   "source": [
    "# az.summary(idata, var_names=[\"rate_rising\",\"rate_decay\",\"mu_blip\",\"log_k_blip\",\"X\"])\n",
    "az.plot_trace(\n",
    "    idata,\n",
    "    var_names=[\"rate_rising\", \"rate_decay\", \"mu_blip\", \"log_k_blip\"],\n",
    "    compact=False,\n",
    "    combined=False,\n",
    ")\n",
    "plt.tight_layout(pad=1.0)\n",
    "plt.show()"
   ]
  },
  {
   "cell_type": "code",
   "execution_count": 4,
   "id": "8ae4055f",
   "metadata": {},
   "outputs": [
    {
     "ename": "NameError",
     "evalue": "name 'data_dict' is not defined",
     "output_type": "error",
     "traceback": [
      "\u001b[31m---------------------------------------------------------------------------\u001b[39m",
      "\u001b[31mNameError\u001b[39m                                 Traceback (most recent call last)",
      "\u001b[36mCell\u001b[39m\u001b[36m \u001b[39m\u001b[32mIn[4]\u001b[39m\u001b[32m, line 1\u001b[39m\n\u001b[32m----> \u001b[39m\u001b[32m1\u001b[39m ut.plot_supervised_inputs(\u001b[43mdata_dict\u001b[49m)\n",
      "\u001b[31mNameError\u001b[39m: name 'data_dict' is not defined"
     ]
    }
   ],
   "source": [
    "ut.plot_supervised_inputs(data_dict)"
   ]
  },
  {
   "cell_type": "code",
   "execution_count": 5,
   "id": "8867f84e",
   "metadata": {
    "scrolled": false
   },
   "outputs": [
    {
     "ename": "NameError",
     "evalue": "name 'data_dict' is not defined",
     "output_type": "error",
     "traceback": [
      "\u001b[31m---------------------------------------------------------------------------\u001b[39m",
      "\u001b[31mNameError\u001b[39m                                 Traceback (most recent call last)",
      "\u001b[36mCell\u001b[39m\u001b[36m \u001b[39m\u001b[32mIn[5]\u001b[39m\u001b[32m, line 4\u001b[39m\n\u001b[32m      1\u001b[39m importlib.reload(ut)\n\u001b[32m      3\u001b[39m \u001b[38;5;28;01mfor\u001b[39;00m i \u001b[38;5;129;01min\u001b[39;00m \u001b[38;5;28mrange\u001b[39m(\u001b[32m50\u001b[39m):\n\u001b[32m----> \u001b[39m\u001b[32m4\u001b[39m     ut.plot_data_vs_pred(\u001b[43mdata_dict\u001b[49m, fit, pointing=\u001b[33m'\u001b[39m\u001b[33mp0\u001b[39m\u001b[33m'\u001b[39m, \n\u001b[32m      5\u001b[39m             cut_idx=i,\n\u001b[32m      6\u001b[39m             save_path=\u001b[38;5;28;01mNone\u001b[39;00m,\n\u001b[32m      7\u001b[39m     )\n",
      "\u001b[31mNameError\u001b[39m: name 'data_dict' is not defined"
     ]
    }
   ],
   "source": [
    "importlib.reload(ut)\n",
    "\n",
    "for i in range(50):\n",
    "    ut.plot_data_vs_pred(data_dict, fit, pointing='p0', \n",
    "            cut_idx=i,\n",
    "            save_path=None,\n",
    "    )"
   ]
  },
  {
   "cell_type": "code",
   "execution_count": 6,
   "id": "937f0513",
   "metadata": {},
   "outputs": [
    {
     "ename": "NameError",
     "evalue": "name 'fit' is not defined",
     "output_type": "error",
     "traceback": [
      "\u001b[31m---------------------------------------------------------------------------\u001b[39m",
      "\u001b[31mNameError\u001b[39m                                 Traceback (most recent call last)",
      "\u001b[36mCell\u001b[39m\u001b[36m \u001b[39m\u001b[32mIn[6]\u001b[39m\u001b[32m, line 3\u001b[39m\n\u001b[32m      1\u001b[39m importlib.reload(ut)\n\u001b[32m----> \u001b[39m\u001b[32m3\u001b[39m ut.transition_corner_plot(\u001b[43mfit\u001b[49m, save_path=\u001b[38;5;28;01mNone\u001b[39;00m)\n",
      "\u001b[31mNameError\u001b[39m: name 'fit' is not defined"
     ]
    }
   ],
   "source": [
    "importlib.reload(ut)\n",
    "\n",
    "ut.transition_corner_plot(fit, save_path=None)"
   ]
  },
  {
   "cell_type": "code",
   "execution_count": 7,
   "id": "ec09397d",
   "metadata": {},
   "outputs": [
    {
     "ename": "NameError",
     "evalue": "name 'fit' is not defined",
     "output_type": "error",
     "traceback": [
      "\u001b[31m---------------------------------------------------------------------------\u001b[39m",
      "\u001b[31mNameError\u001b[39m                                 Traceback (most recent call last)",
      "\u001b[36mCell\u001b[39m\u001b[36m \u001b[39m\u001b[32mIn[7]\u001b[39m\u001b[32m, line 3\u001b[39m\n\u001b[32m      1\u001b[39m importlib.reload(ut)\n\u001b[32m----> \u001b[39m\u001b[32m3\u001b[39m ut.emission_corner_plot(\u001b[43mfit\u001b[49m, save_path=\u001b[38;5;28;01mNone\u001b[39;00m)\n",
      "\u001b[31mNameError\u001b[39m: name 'fit' is not defined"
     ]
    }
   ],
   "source": [
    "importlib.reload(ut)\n",
    "\n",
    "ut.emission_corner_plot(fit, save_path=None)"
   ]
  },
  {
   "cell_type": "code",
   "execution_count": 8,
   "id": "cb6c7b17",
   "metadata": {},
   "outputs": [
    {
     "ename": "NameError",
     "evalue": "name 'data_dict' is not defined",
     "output_type": "error",
     "traceback": [
      "\u001b[31m---------------------------------------------------------------------------\u001b[39m",
      "\u001b[31mNameError\u001b[39m                                 Traceback (most recent call last)",
      "\u001b[36mCell\u001b[39m\u001b[36m \u001b[39m\u001b[32mIn[8]\u001b[39m\u001b[32m, line 3\u001b[39m\n\u001b[32m      1\u001b[39m importlib.reload(ut)\n\u001b[32m----> \u001b[39m\u001b[32m3\u001b[39m ut.plot_prediction_hist(\u001b[43mdata_dict\u001b[49m, fit, save_path=\u001b[38;5;28;01mNone\u001b[39;00m)\n",
      "\u001b[31mNameError\u001b[39m: name 'data_dict' is not defined"
     ]
    }
   ],
   "source": [
    "importlib.reload(ut)\n",
    "\n",
    "ut.plot_prediction_hist(data_dict, fit, save_path=None)"
   ]
  },
  {
   "cell_type": "code",
   "execution_count": 57,
   "id": "45a09c52",
   "metadata": {
    "scrolled": false
   },
   "outputs": [],
   "source": [
    "X = fit.stan_variables()['X']      # (4000, 8)\n",
    "X_mode = mode(X, axis=0).mode"
   ]
  },
  {
   "cell_type": "code",
   "execution_count": 63,
   "id": "4860b891",
   "metadata": {},
   "outputs": [
    {
     "data": {
      "text/plain": [
       "(21765, 8)"
      ]
     },
     "execution_count": 63,
     "metadata": {},
     "output_type": "execute_result"
    }
   ],
   "source": [
    "design_matrix = np.asarray(data_dict['A_unsup'])\n",
    "\n",
    "design_matrix.shape"
   ]
  },
  {
   "cell_type": "code",
   "execution_count": 99,
   "id": "5818f375",
   "metadata": {},
   "outputs": [
    {
     "data": {
      "image/png": "[encoded data removed]",
      "text/plain": [
       "<Figure size 900x300 with 1 Axes>"
      ]
     },
     "metadata": {},
     "output_type": "display_data"
    }
   ],
   "source": [
    "X = fit.stan_variables()['X']            # (draws, L)\n",
    "A = np.asarray(data_dict['A_unsup'])     # (N, L)\n",
    "y = np.asarray(data_dict['y_unsup'])     # (N,)\n",
    "\n",
    "mu_draws = X @ A.T                        # (draws, N)\n",
    "mu_mean  = mu_draws.mean(axis=0)\n",
    "\n",
    "plt.figure(figsize=(9, 3))\n",
    "plt.scatter(np.arange(len(y)), y, s=1, label='Input data', alpha=0.75)\n",
    "plt.plot(mu_mean, lw=2, label='Background (Legendre Polynomial)', color=sns.color_palette()[2])\n",
    "plt.legend()\n",
    "plt.tight_layout()\n",
    "plt.ylim(-10,10)\n",
    "plt.xlim(100,500)\n",
    "plt.show()"
   ]
  },
  {
   "cell_type": "code",
   "execution_count": null,
   "id": "75b26401",
   "metadata": {},
   "outputs": [],
   "source": []
  }
 ],
 "metadata": {
  "kernelspec": {
   "display_name": "stan",
   "language": "python",
   "name": "stan"
  },
  "language_info": {
   "codemirror_mode": {
    "name": "ipython",
    "version": 3
   },
   "file_extension": ".py",
   "mimetype": "text/x-python",
   "name": "python",
   "nbconvert_exporter": "python",
   "pygments_lexer": "ipython3",
   "version": "3.13.3"
  }
 },
 "nbformat": 4,
 "nbformat_minor": 5
}
