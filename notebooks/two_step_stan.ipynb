{
 "cells": [
  {
   "cell_type": "code",
   "execution_count": 1,
   "id": "2f01c7af",
   "metadata": {},
   "outputs": [],
   "source": [
    "import sys\n",
    "import importlib\n",
    "sys.path.append(\"/users/jmduchar/data/jmduchar/Research/mcgill25/rfi_characterization/python/\")\n",
    "import run_stan\n",
    "\n",
    "import os\n",
    "import numpy as np\n",
    "import matplotlib.pyplot as plt\n",
    "from cmdstanpy import CmdStanModel\n",
    "import json\n",
    "import glob\n",
    "import seaborn as sns\n",
    "from tqdm import tqdm\n",
    "\n",
    "plt.style.use('seaborn-v0_8')"
   ]
  },
  {
   "cell_type": "code",
   "execution_count": 2,
   "id": "1af4068f",
   "metadata": {},
   "outputs": [],
   "source": [
    "ABS_DIR       = '/users/jmduchar/data/jmduchar/Research/mcgill25/rfi_characterization/'\n",
    "LEGENDRE_FILE = ABS_DIR+'stan/legendre_bg_only.stan'\n",
    "HMM_FILE      = ABS_DIR+'stan/hmm_on_residuals.stan'\n",
    "\n",
    "DATA_SAVE_PATH = ABS_DIR+\"/data/json/two_step_model\"\n",
    "\n",
    "DATAPATH = ABS_DIR+\"data_private/raw_data/\"\n",
    "ANNOTATIONPATH = ABS_DIR+\"data_private/annotations/\"\n",
    "\n",
    "ALL_FILES = glob.glob(DATAPATH+\"*.npy\")\n",
    "ALL_ANNOTATIONS = glob.glob(ANNOTATIONPATH+\"*.npy\")\n",
    "\n",
    "pointing = 'p0'\n",
    "L = 8\n",
    "sigma=0.33"
   ]
  },
  {
   "cell_type": "code",
   "execution_count": 3,
   "id": "667b45ea",
   "metadata": {},
   "outputs": [],
   "source": [
    "# Compile models\n",
    "bg_model = CmdStanModel(stan_file=LEGENDRE_FILE)\n",
    "hmm_model = CmdStanModel(stan_file=HMM_FILE)"
   ]
  },
  {
   "cell_type": "code",
   "execution_count": 4,
   "id": "6eda687b",
   "metadata": {},
   "outputs": [],
   "source": [
    "importlib.reload(run_stan)\n",
    "\n",
    "# Initial data dictionary\n",
    "bg_data_dict = run_stan.create_data_dict_bg(pointing, L, sigma=sigma)"
   ]
  },
  {
   "cell_type": "code",
   "execution_count": null,
   "id": "fbafb0f5",
   "metadata": {},
   "outputs": [
    {
     "name": "stderr",
     "output_type": "stream",
     "text": [
      "  0%|          | 0/6 [00:00<?, ?it/s]18:04:32 - cmdstanpy - INFO - CmdStan start processing\n"
     ]
    },
    {
     "data": {
      "application/vnd.jupyter.widget-view+json": {
       "model_id": "eb19ca36382e4c65a30b95e9ec6032ea",
       "version_major": 2,
       "version_minor": 0
      },
      "text/plain": [
       "chain 1 |          | 00:00 Status"
      ]
     },
     "metadata": {},
     "output_type": "display_data"
    },
    {
     "data": {
      "application/vnd.jupyter.widget-view+json": {
       "model_id": "0e995aec19004e6289b5f859fee6edba",
       "version_major": 2,
       "version_minor": 0
      },
      "text/plain": [
       "chain 2 |          | 00:00 Status"
      ]
     },
     "metadata": {},
     "output_type": "display_data"
    },
    {
     "data": {
      "application/vnd.jupyter.widget-view+json": {
       "model_id": "7e9cf26e7be840bc857064365ff1de6e",
       "version_major": 2,
       "version_minor": 0
      },
      "text/plain": [
       "chain 3 |          | 00:00 Status"
      ]
     },
     "metadata": {},
     "output_type": "display_data"
    },
    {
     "data": {
      "application/vnd.jupyter.widget-view+json": {
       "model_id": "2fe130d24a2647148b0048334f643351",
       "version_major": 2,
       "version_minor": 0
      },
      "text/plain": [
       "chain 4 |          | 00:00 Status"
      ]
     },
     "metadata": {},
     "output_type": "display_data"
    }
   ],
   "source": [
    "w = bg_data_dict['w']\n",
    "bg_data_dict['w'] = np.clip(w, 1e-6, 1.0)\n",
    "max_loop = 6\n",
    "eta = 0.5\n",
    "tol = 1e-3  # convergence criterion\n",
    "\n",
    "for i in tqdm(range(max_loop)):\n",
    "    \n",
    "    # 1) Legendre BG subtraction\n",
    "    bg_fit = bg_model.sample(\n",
    "        data            = bg_data_dict,\n",
    "        chains          = 4,\n",
    "        parallel_chains = 4,\n",
    "        show_console    = False,\n",
    "        output_dir      = ABS_DIR + 'stan/stan_out/'\n",
    "    )\n",
    "    \n",
    "    mu = bg_fit.stan_variable(\"mu\").mean(axis=0)  # avg background\n",
    "    \n",
    "    # 2) HMM on residuals\n",
    "    z = np.asarray(bg_data_dict['y']) - mu\n",
    "    \n",
    "    hmm_data_dict = run_stan.create_data_dict_hmm(\n",
    "        pointing, \n",
    "        z, \n",
    "        start_idx      = bg_data_dict['start_idx'], \n",
    "        stop_idx       = bg_data_dict['stop_idx'], \n",
    "        sigma          = float(bg_data_dict['sigma']), \n",
    "        save_data      = False, \n",
    "        data_save_path = None,\n",
    "    )\n",
    "    \n",
    "    hmm_fit = hmm_model.sample(\n",
    "        data            = hmm_data_dict,\n",
    "        chains          = 4, \n",
    "        parallel_chains = 4,\n",
    "        show_console    = False,\n",
    "        output_dir      = ABS_DIR + 'stan/stan_out/'\n",
    "    )\n",
    "    \n",
    "    # 3) Update clean weights\n",
    "    w_new = hmm_fit.stan_variable(\"post_clean\").mean(axis=0)\n",
    "    \n",
    "    # Damping + clipping (for numerical stability)\n",
    "    w = (1.0 - eta) * w + eta * w_new\n",
    "    w = np.clip(w, 1e-6, 1.0)\n",
    "    \n",
    "    bg_data_dict['w'] = w\n",
    "\n",
    "    # check convergence\n",
    "    if i > 0:\n",
    "        delta = np.mean(np.abs(w - w_prev)) / (np.mean(w_prev) + 1e-12)\n",
    "        if delta < tol:\n",
    "            print(fr\"Converged at iter {i}: $\\Delta w$={delta:.2e}\")\n",
    "            break\n",
    "\n",
    "    w_prev = w.copy()"
   ]
  },
  {
   "cell_type": "code",
   "execution_count": null,
   "id": "2c7430fc",
   "metadata": {},
   "outputs": [],
   "source": [
    "# Final draws\n",
    "mu_draws = bg_fit.stan_variable(\"mu\")\n",
    "mu = mu_draws.mean(axis=0)\n",
    "\n",
    "z = np.asarray(bg_data_dict['y']) - mu"
   ]
  },
  {
   "cell_type": "code",
   "execution_count": null,
   "id": "e606ab4f",
   "metadata": {},
   "outputs": [],
   "source": [
    "# Plot before and after\n",
    "view_start = None\n",
    "view_end = None\n",
    "\n",
    "fig, axes = plt.subplots(1, 2, figsize=(9, 3), sharex=True, sharey=True)\n",
    "\n",
    "axes[0].scatter(range(len(z))[view_start:view_end], np.asarray(bg_data_dict['y'])[view_start:view_end], s=1)\n",
    "axes[0].set_title('Original (raw) data')\n",
    "\n",
    "axes[1].scatter(range(len(z))[view_start:view_end], z[view_start:view_end], color=sns.color_palette()[2], s=1)\n",
    "axes[1].set_title('Background-subtracted data (first pass)')\n",
    "\n",
    "fig.supxlabel(\"Time-step\")\n",
    "plt.tight_layout()\n",
    "plt.show()"
   ]
  },
  {
   "cell_type": "code",
   "execution_count": null,
   "id": "d9859b80",
   "metadata": {},
   "outputs": [],
   "source": []
  }
 ],
 "metadata": {
  "kernelspec": {
   "display_name": "stan",
   "language": "python",
   "name": "stan"
  },
  "language_info": {
   "codemirror_mode": {
    "name": "ipython",
    "version": 3
   },
   "file_extension": ".py",
   "mimetype": "text/x-python",
   "name": "python",
   "nbconvert_exporter": "python",
   "pygments_lexer": "ipython3",
   "version": "3.13.3"
  }
 },
 "nbformat": 4,
 "nbformat_minor": 5
}
