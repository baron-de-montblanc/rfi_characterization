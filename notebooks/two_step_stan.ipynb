{
 "cells": [
  {
   "cell_type": "code",
   "execution_count": 9,
   "id": "949cd91f",
   "metadata": {},
   "outputs": [],
   "source": [
    "import sys\n",
    "import importlib\n",
    "sys.path.append(\"/users/jmduchar/data/jmduchar/Research/mcgill25/rfi_characterization/python/\")\n",
    "import run_stan\n",
    "\n",
    "import os\n",
    "import numpy as np\n",
    "import matplotlib.pyplot as plt\n",
    "from cmdstanpy import CmdStanModel\n",
    "import json\n",
    "import glob\n",
    "import seaborn as sns\n",
    "from tqdm import tqdm\n",
    "\n",
    "plt.style.use('seaborn-v0_8')"
   ]
  },
  {
   "cell_type": "code",
   "execution_count": 10,
   "id": "0d0b10c3",
   "metadata": {},
   "outputs": [],
   "source": [
    "ABS_DIR       = '/users/jmduchar/data/jmduchar/Research/mcgill25/rfi_characterization/'\n",
    "LEGENDRE_FILE = ABS_DIR+'stan/legendre_bg_only.stan'\n",
    "HMM_FILE      = ABS_DIR+'stan/hmm_on_residuals.stan'\n",
    "\n",
    "DATA_SAVE_PATH = ABS_DIR+\"/data/json/two_step_model\"\n",
    "\n",
    "DATAPATH = ABS_DIR+\"data_private/raw_data/\"\n",
    "ANNOTATIONPATH = ABS_DIR+\"data_private/annotations/\"\n",
    "\n",
    "ALL_FILES = glob.glob(DATAPATH+\"*.npy\")\n",
    "ALL_ANNOTATIONS = glob.glob(ANNOTATIONPATH+\"*.npy\")\n",
    "\n",
    "pointing = 'p0'\n",
    "L = 8\n",
    "sigma=0.33"
   ]
  },
  {
   "cell_type": "code",
   "execution_count": 11,
   "id": "5722c2de",
   "metadata": {},
   "outputs": [
    {
     "name": "stderr",
     "output_type": "stream",
     "text": [
      "16:59:30 - cmdstanpy - INFO - compiling stan file /oscar/data/jpober/jmduchar/Research/mcgill25/rfi_characterization/stan/legendre_bg_only.stan to exe file /oscar/data/jpober/jmduchar/Research/mcgill25/rfi_characterization/stan/legendre_bg_only\n",
      "17:00:08 - cmdstanpy - INFO - compiled model executable: /oscar/data/jpober/jmduchar/Research/mcgill25/rfi_characterization/stan/legendre_bg_only\n"
     ]
    }
   ],
   "source": [
    "# Compile models\n",
    "bg_model = CmdStanModel(stan_file=LEGENDRE_FILE)\n",
    "hmm_model = CmdStanModel(stan_file=HMM_FILE)"
   ]
  },
  {
   "cell_type": "code",
   "execution_count": 12,
   "id": "a6a545e9",
   "metadata": {},
   "outputs": [],
   "source": [
    "importlib.reload(run_stan)\n",
    "\n",
    "# Initial data dictionary\n",
    "bg_data_dict = run_stan.create_data_dict_bg(\n",
    "    pointing = pointing, \n",
    "    L = L, \n",
    "    sigma = sigma,\n",
    "    save_data = True,\n",
    "    data_save_path = \"/users/jmduchar/data/jmduchar/Research/mcgill25/rfi_characterization/data/json/legendre_bg_only.json\",\n",
    ")"
   ]
  },
  {
   "cell_type": "code",
   "execution_count": null,
   "id": "189860ff",
   "metadata": {
    "scrolled": true
   },
   "outputs": [
    {
     "name": "stderr",
     "output_type": "stream",
     "text": [
      "  0%|                                                     | 0/6 [00:00<?, ?it/s]17:00:09 - cmdstanpy - INFO - CmdStan start processing\n"
     ]
    },
    {
     "data": {
      "application/vnd.jupyter.widget-view+json": {
       "model_id": "4927080b26794246a5e0a7dbbe0fcf39",
       "version_major": 2,
       "version_minor": 0
      },
      "text/plain": [
       "chain 1 |          | 00:00 Status"
      ]
     },
     "metadata": {},
     "output_type": "display_data"
    },
    {
     "data": {
      "application/vnd.jupyter.widget-view+json": {
       "model_id": "76c2fa5ca37b4c0c83000eda34312a17",
       "version_major": 2,
       "version_minor": 0
      },
      "text/plain": [
       "chain 2 |          | 00:00 Status"
      ]
     },
     "metadata": {},
     "output_type": "display_data"
    },
    {
     "data": {
      "application/vnd.jupyter.widget-view+json": {
       "model_id": "01dfc63d651c43709c3dab93d6fc6da1",
       "version_major": 2,
       "version_minor": 0
      },
      "text/plain": [
       "chain 3 |          | 00:00 Status"
      ]
     },
     "metadata": {},
     "output_type": "display_data"
    },
    {
     "data": {
      "application/vnd.jupyter.widget-view+json": {
       "model_id": "1c68a53bdbb645f09d933e3ffd2616b6",
       "version_major": 2,
       "version_minor": 0
      },
      "text/plain": [
       "chain 4 |          | 00:00 Status"
      ]
     },
     "metadata": {},
     "output_type": "display_data"
    }
   ],
   "source": [
    "w = np.asarray(bg_data_dict['w'])\n",
    "bg_data_dict['w'] = np.clip(w, 1e-6, 1.0)\n",
    "max_loop = 6\n",
    "eta = 0.5\n",
    "tol = 1e-3  # convergence criterion\n",
    "\n",
    "for i in tqdm(range(max_loop)):\n",
    "    \n",
    "    # 1) Legendre BG subtraction\n",
    "    bg_fit = bg_model.sample(\n",
    "        data            = bg_data_dict,\n",
    "        chains          = 4,\n",
    "        parallel_chains = 4,\n",
    "#         iter_sampling   = 10,\n",
    "#         iter_warmup     = 10,\n",
    "        show_console    = False,\n",
    "        output_dir      = ABS_DIR + 'stan/stan_out/'\n",
    "    )\n",
    "    \n",
    "    mu = bg_fit.stan_variable(\"mu\").mean(axis=0)  # avg background\n",
    "    legendre_priors = run_stan.prior_params_from_fit(bg_fit)\n",
    "    \n",
    "    # 2) HMM on residuals\n",
    "    z = np.asarray(bg_data_dict['y']) - mu\n",
    "    \n",
    "    hmm_data_dict = run_stan.create_data_dict_hmm(\n",
    "        pointing, \n",
    "        z, \n",
    "        start_idx      = bg_data_dict['start_idx'], \n",
    "        stop_idx       = bg_data_dict['stop_idx'], \n",
    "        sigma          = float(bg_data_dict['sigma']), \n",
    "        save_data      = True, \n",
    "        data_save_path = \"/users/jmduchar/data/jmduchar/Research/mcgill25/rfi_characterization/data/json/hmm_dict.json\",\n",
    "    )\n",
    "\n",
    "    hmm_fit = hmm_model.sample(\n",
    "        data            = hmm_data_dict,\n",
    "        chains          = 4, \n",
    "        parallel_chains = 4,\n",
    "#         iter_sampling   = 10,\n",
    "#         iter_warmup     = 10,\n",
    "        show_console    = False,\n",
    "        output_dir      = ABS_DIR + 'stan/stan_out/'\n",
    "    )\n",
    "    \n",
    "    # 3) Update clean weights\n",
    "    w_new = hmm_fit.stan_variable(\"post_clean\").mean(axis=0)\n",
    "    \n",
    "    # Damping + clipping (for numerical stability)\n",
    "    w = (1.0 - eta) * w + eta * w_new\n",
    "    w = np.clip(w, 1e-6, 1.0)\n",
    "    \n",
    "    bg_data_dict['w'] = w\n",
    "    \n",
    "    # Finally, update priors\n",
    "    bg_data_dict.update(legendre_priors)\n",
    "\n",
    "    # check convergence\n",
    "    if i > 0:\n",
    "        delta = np.mean(np.abs(w - w_prev)) / (np.mean(w_prev) + 1e-12)\n",
    "        if delta < tol:\n",
    "            print(fr\"Converged at iter {i}: $\\Delta w$={delta:.2e}\")\n",
    "            break\n",
    "\n",
    "    w_prev = w.copy()"
   ]
  },
  {
   "cell_type": "code",
   "execution_count": null,
   "id": "b4125192",
   "metadata": {},
   "outputs": [],
   "source": [
    "# Final draws\n",
    "mu_draws = bg_fit.stan_variable(\"mu\")\n",
    "mu = mu_draws.mean(axis=0)\n",
    "\n",
    "z = np.asarray(bg_data_dict['y']) - mu"
   ]
  },
  {
   "cell_type": "code",
   "execution_count": null,
   "id": "efe48fb2",
   "metadata": {},
   "outputs": [],
   "source": [
    "# Plot before and after\n",
    "view_start = None\n",
    "view_end = None\n",
    "\n",
    "fig, axes = plt.subplots(1, 2, figsize=(9, 3), sharex=True, sharey=True)\n",
    "\n",
    "axes[0].scatter(range(len(z))[view_start:view_end], np.asarray(bg_data_dict['y'])[view_start:view_end], s=1)\n",
    "axes[0].set_title('Original (raw) data')\n",
    "\n",
    "axes[1].scatter(range(len(z))[view_start:view_end], z[view_start:view_end], color=sns.color_palette()[2], s=1)\n",
    "axes[1].set_title('Background-subtracted data (final pass)')\n",
    "\n",
    "fig.supxlabel(\"Time-step\")\n",
    "plt.tight_layout()\n",
    "plt.show()"
   ]
  },
  {
   "cell_type": "code",
   "execution_count": null,
   "id": "c3e7bcab",
   "metadata": {},
   "outputs": [],
   "source": []
  }
 ],
 "metadata": {
  "kernelspec": {
   "display_name": "stan",
   "language": "python",
   "name": "stan"
  },
  "language_info": {
   "codemirror_mode": {
    "name": "ipython",
    "version": 3
   },
   "file_extension": ".py",
   "mimetype": "text/x-python",
   "name": "python",
   "nbconvert_exporter": "python",
   "pygments_lexer": "ipython3",
   "version": "3.13.3"
  }
 },
 "nbformat": 4,
 "nbformat_minor": 5
}
