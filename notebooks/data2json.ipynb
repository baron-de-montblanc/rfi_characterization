{
 "cells": [
  {
   "cell_type": "markdown",
   "id": "287a4d79",
   "metadata": {},
   "source": [
    "## Send MWA data to JSON format for training"
   ]
  },
  {
   "cell_type": "code",
   "execution_count": 1,
   "id": "317be28a",
   "metadata": {},
   "outputs": [],
   "source": [
    "import sys\n",
    "sys.path.append('/users/jmduchar/data/jmduchar/Research/mcgill25/rfi_characterization/python/')\n",
    "from utils import *\n",
    "\n",
    "import numpy as np\n",
    "import yaml\n",
    "import os\n",
    "import glob\n",
    "import json\n",
    "from astropy.io import fits\n",
    "import h5py\n",
    "import matplotlib.pyplot as plt\n",
    "from mapper import bg_subtract\n",
    "plt.style.use('seaborn-v0_8')"
   ]
  },
  {
   "cell_type": "code",
   "execution_count": 2,
   "id": "66239e03",
   "metadata": {},
   "outputs": [],
   "source": [
    "def get_pointing(data, pointing):\n",
    "    \"\"\"\n",
    "    Given a dictionary mapping obsids to pointings, and the desired pointing,\n",
    "    return *all* obsids for that pointing.\n",
    "\n",
    "    Parameters:\n",
    "        data (dict): Dictionary of obsid strings mapped to integer values.\n",
    "        pointing (int): The desired pointing\n",
    "\n",
    "    Returns:\n",
    "        list: Complete list of obsids from that poiting\n",
    "    \"\"\"\n",
    "    result = []\n",
    "    for i in data:\n",
    "        if data[i] == pointing:\n",
    "            result.append(i)\n",
    "\n",
    "    return result  # return the pointing and all associated obsids for that night"
   ]
  },
  {
   "cell_type": "code",
   "execution_count": 3,
   "id": "02044bb2",
   "metadata": {},
   "outputs": [
    {
     "data": {
      "text/plain": [
       "15"
      ]
     },
     "execution_count": 3,
     "metadata": {},
     "output_type": "execute_result"
    }
   ],
   "source": [
    "# Get data\n",
    "dirpath = '/users/jmduchar/data/jmduchar/Research/mcgill25/ssins_data/'\n",
    "# reference_obs = '1093799552'  # known to contain RFI\n",
    "# reference_obs = '1094662784'\n",
    "reference_obs = '1090867840'\n",
    "\n",
    "with open(dirpath+'gridpoint_dict.yaml', 'r') as file:\n",
    "    data = yaml.safe_load(file)\n",
    "    \n",
    "pointing, obsids = get_night(data=data, target_obsid=reference_obs)\n",
    "# obsids = get_pointing(data, pointing=0)\n",
    "# obsids.sort()\n",
    "\n",
    "len(obsids)"
   ]
  },
  {
   "cell_type": "code",
   "execution_count": null,
   "id": "4743ca65",
   "metadata": {
    "scrolled": false
   },
   "outputs": [
    {
     "name": "stderr",
     "output_type": "stream",
     "text": [
      "channel_width not available in file, computing it from the freq_array spacing.\n",
      "Antenna metadata are missing for this file. Since this is MWA data, the best way to fill in these metadata is to pass in an mwa_metafits_file which contains information about which antennas were connected when the data were taken. Since that was not passed, the antenna metadata will be filled in from a static csv file containing all the antennas that could have been connected.\n",
      "channel_width not available in file, computing it from the freq_array spacing.\n",
      "Antenna metadata are missing for this file. Since this is MWA data, the best way to fill in these metadata is to pass in an mwa_metafits_file which contains information about which antennas were connected when the data were taken. Since that was not passed, the antenna metadata will be filled in from a static csv file containing all the antennas that could have been connected.\n",
      "invalid value encountered in multiply\n",
      "invalid value encountered in divide\n",
      "sig_array has been reset\n"
     ]
    }
   ],
   "source": [
    "subtracted_data = bg_subtract(data_dir=dirpath+'tars/', obsids=obsids, N_terms=24)\n",
    "subtracted_data = subtracted_data[~np.isnan(subtracted_data)]\n",
    "\n",
    "subtracted_data.shape"
   ]
  },
  {
   "cell_type": "code",
   "execution_count": null,
   "id": "15b4e5ea",
   "metadata": {},
   "outputs": [],
   "source": [
    "cb = np.load('../data/coarse_bands_1D.npy')\n",
    "ssins_list = []\n",
    "\n",
    "for obsid in obsids:\n",
    "    file = dirpath + f\"tars/{obsid}_SSINS_data.h5\"\n",
    "    \n",
    "    with h5py.File(file, \"r\") as hf:\n",
    "        \n",
    "        # Access the SSINS\n",
    "        ssins_rep = hf['Data']['metric_array'][:][:,:,0]  # xx polarization\n",
    "        \n",
    "        # Remove CB\n",
    "        ssins_rep = ssins_rep[:,np.invert(cb)]\n",
    "        \n",
    "        # Avg across DTV7\n",
    "        ssins_rep = np.mean(ssins_rep[:,350:525], axis=1)\n",
    "\n",
    "        # Remove inf\n",
    "        ssins_rep = ssins_rep[~np.isinf(ssins_rep)]\n",
    "\n",
    "        # Append to list\n",
    "        ssins_list.append(ssins_rep)"
   ]
  },
  {
   "cell_type": "code",
   "execution_count": null,
   "id": "317d4e80",
   "metadata": {},
   "outputs": [],
   "source": [
    "ssins = np.asarray(ssins_list).flatten()\n",
    "ssins -= np.median(ssins)"
   ]
  },
  {
   "cell_type": "code",
   "execution_count": null,
   "id": "286e06b1",
   "metadata": {
    "scrolled": false
   },
   "outputs": [],
   "source": [
    "plt.figure(figsize=(6,3))\n",
    "plt.plot(ssins, '.-')\n",
    "plt.title(\"Amplitude of SSINS averaged across DTV7 (night of 1093799552)\", y=1.02)\n",
    "plt.xlabel(\"time-step\")\n",
    "plt.ylabel(\"amplitude (median-subtracted)\")\n",
    "# plt.yscale('symlog')\n",
    "plt.ylim(-15,15)\n",
    "# plt.savefig(\"./sample.png\",dpi=300,bbox_inches='tight')\n",
    "plt.show()\n",
    "\n",
    "plt.figure(figsize=(6,3))\n",
    "plt.plot(subtracted_data, '.-')\n",
    "plt.title(\"Amplitude of SSINS averaged across DTV7 (night of 1093799552)\\nBackground-subtracted\", y=1.02)\n",
    "plt.xlabel(\"time-step\")\n",
    "plt.ylabel(\"amplitude\")\n",
    "# plt.yscale('symlog')\n",
    "plt.ylim(-15,20)\n",
    "# plt.savefig(\"./sample.png\",dpi=300,bbox_inches='tight')\n",
    "plt.show()"
   ]
  },
  {
   "cell_type": "code",
   "execution_count": null,
   "id": "5faa48be",
   "metadata": {},
   "outputs": [],
   "source": [
    "# Structure the data for Stan\n",
    "stan_data = {\n",
    "    \"N\": subtracted_data.shape[0],\n",
    "    \"y\": subtracted_data.tolist(),\n",
    "}"
   ]
  },
  {
   "cell_type": "code",
   "execution_count": null,
   "id": "f5e21e0a",
   "metadata": {},
   "outputs": [],
   "source": [
    "stan_data"
   ]
  },
  {
   "cell_type": "code",
   "execution_count": null,
   "id": "1ae74c2b",
   "metadata": {},
   "outputs": [],
   "source": [
    "# Write to JSON\n",
    "with open(\"../data/three_state.data.json\", \"w\") as f:\n",
    "    json.dump(stan_data, f)"
   ]
  },
  {
   "cell_type": "code",
   "execution_count": null,
   "id": "7b8acdf9",
   "metadata": {},
   "outputs": [],
   "source": [
    "np.median(subtracted_data)"
   ]
  },
  {
   "cell_type": "code",
   "execution_count": null,
   "id": "0d786910",
   "metadata": {},
   "outputs": [],
   "source": []
  }
 ],
 "metadata": {
  "kernelspec": {
   "display_name": "mcgill25",
   "language": "python",
   "name": "mcgill25"
  },
  "language_info": {
   "codemirror_mode": {
    "name": "ipython",
    "version": 3
   },
   "file_extension": ".py",
   "mimetype": "text/x-python",
   "name": "python",
   "nbconvert_exporter": "python",
   "pygments_lexer": "ipython3",
   "version": "3.11.12"
  }
 },
 "nbformat": 4,
 "nbformat_minor": 5
}
